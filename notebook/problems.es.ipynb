{
 "cells": [
  {
   "cell_type": "markdown",
   "id": "a41f3622",
   "metadata": {},
   "source": [
    "# Ejercicios de probabilidad"
   ]
  },
  {
   "cell_type": "markdown",
   "id": "a6bdbd89",
   "metadata": {},
   "source": [
    "## Ejercicio 1 \n",
    "\n",
    "Dos dados se lanzan una vez y se observa el total obtenido. Usa una simulación para encontrar la probabilidad estimada de que la puntuación sea mayor a 7 o un número par. Una simulación es una repetición del mismo experimento multiples veces para observar su comportamiento:\n",
    "\n",
    "- Ejecuta el experimento 1000 veces (lanza 2 dados 1000 veces, y suma el número de ambos dados).\n",
    "- Lleva ua cuenta de los números y las veces que la suma fue mayor a 7 o un número par.\n",
    "- Divide el número del paso 2 entre el número de iteraciones(1000)."
   ]
  },
  {
   "cell_type": "code",
   "execution_count": 5,
   "id": "8939d892",
   "metadata": {},
   "outputs": [
    {
     "name": "stdout",
     "output_type": "stream",
     "text": [
      "Probabilidad estimada (suma > 7 o par): 0.6470\n"
     ]
    }
   ],
   "source": [
    "# TODO\n",
    "import random\n",
    "\n",
    "# Numero de experimentos\n",
    "n_experimentos = 1000 \n",
    "contador_exitos = 0\n",
    "\n",
    "for _ in  range(n_experimentos):\n",
    "    dado1 = random.randint(1, 6)\n",
    "    dado2 = random.randint(1, 6)\n",
    "    suma = dado1 + dado2\n",
    "\n",
    "    if suma > 7 or suma % 2 == 0:\n",
    "        contador_exitos += 1\n",
    "\n",
    "# Resultados\n",
    "probabilidad_estimada = contador_exitos / n_experimentos\n",
    "\n",
    "print(f\"Probabilidad estimada (suma > 7 o par): {probabilidad_estimada:.4f}\")\n"
   ]
  },
  {
   "cell_type": "markdown",
   "id": "55732bca",
   "metadata": {},
   "source": [
    "## Ejercicio 2\n",
    "\n",
    "Una caja contiene 10 bolas blancas, 20 bolas rojas y 30 bolas verdes. Si tomamos 5 bolas de la caja reemplazándolas (tomando una bola, anotando el color y luego regresandola a la caja). Queremos saber la probabilidad de:\n",
    "\n",
    "1. Tomar 3 blancas y 2 rojas.\n",
    "2. Toas todas del mismo color.\n",
    "\n",
    "Ejecuta el experimento 1000 veces y calcula las probabilidades que mencionadas."
   ]
  },
  {
   "cell_type": "code",
   "execution_count": 4,
   "id": "23244d20",
   "metadata": {},
   "outputs": [
    {
     "name": "stdout",
     "output_type": "stream",
     "text": [
      "{0: 'White', 1: 'White', 2: 'White', 3: 'White', 4: 'White', 5: 'White', 6: 'White', 7: 'White', 8: 'White', 9: 'White', 10: 'Red', 11: 'Red', 12: 'Red', 13: 'Red', 14: 'Red', 15: 'Red', 16: 'Red', 17: 'Red', 18: 'Red', 19: 'Red', 20: 'Red', 21: 'Red', 22: 'Red', 23: 'Red', 24: 'Red', 25: 'Red', 26: 'Red', 27: 'Red', 28: 'Red', 29: 'Red', 30: 'Green', 31: 'Green', 32: 'Green', 33: 'Green', 34: 'Green', 35: 'Green', 36: 'Green', 37: 'Green', 38: 'Green', 39: 'Green', 40: 'Green', 41: 'Green', 42: 'Green', 43: 'Green', 44: 'Green', 45: 'Green', 46: 'Green', 47: 'Green', 48: 'Green', 49: 'Green', 50: 'Green', 51: 'Green', 52: 'Green', 53: 'Green', 54: 'Green', 55: 'Green', 56: 'Green', 57: 'Green', 58: 'Green', 59: 'Green'}\n",
      "Probabilidad estimada (3 blancas y 2 rojas): 0.0050\n",
      "Probabilidad estimada (todas del mismo color): 0.0330\n"
     ]
    }
   ],
   "source": [
    "import random\n",
    "\n",
    "ball_box = {}\n",
    "\n",
    "# Crea la cajas con las bolas\n",
    "for i in range(60):\n",
    "    if i < 10:\n",
    "        ball_box[i] = \"White\"\n",
    "    elif (i > 9) and (i < 30):\n",
    "        ball_box[i] = \"Red\"\n",
    "    else:\n",
    "        ball_box[i] = \"Green\"\n",
    "\n",
    "print(ball_box)\n",
    "            \n",
    "# TODO\n",
    "\n",
    "# Convertiremos el diciionario en una lista de bolas\n",
    "bola_lista = list(ball_box.values())\n",
    "\n",
    "# Experimentemos\n",
    "n_simulaciones = 1000\n",
    "contador_3blancas_2rojas = 0\n",
    "contador_todas_igual_color = 0\n",
    "\n",
    "for _ in range(n_simulaciones):\n",
    "    muestra = [random.choice(bola_lista)for _ in range(5)]\n",
    "\n",
    "\n",
    "    blancas = muestra.count(\"White\")\n",
    "    rojas = muestra.count(\"Red\")\n",
    "    verdes = muestra.count(\"Green\")\n",
    "\n",
    "    if blancas == 3 and rojas == 2:\n",
    "        contador_3blancas_2rojas += 1\n",
    "\n",
    "    if blancas == 5 or rojas == 5 or verdes == 5:\n",
    "        contador_todas_igual_color += 1\n",
    "\n",
    "# Resultados\n",
    "prob_3blancas_2rojas = contador_3blancas_2rojas / n_simulaciones\n",
    "prob_todas_igual_color = contador_todas_igual_color / n_simulaciones\n",
    "\n",
    "print(f\"Probabilidad estimada (3 blancas y 2 rojas): {prob_3blancas_2rojas:.4f}\")\n",
    "print(f\"Probabilidad estimada (todas del mismo color): {prob_todas_igual_color:.4f}\")\n",
    "\n"
   ]
  }
 ],
 "metadata": {
  "kernelspec": {
   "display_name": "Python 3",
   "language": "python",
   "name": "python3"
  },
  "language_info": {
   "codemirror_mode": {
    "name": "ipython",
    "version": 3
   },
   "file_extension": ".py",
   "mimetype": "text/x-python",
   "name": "python",
   "nbconvert_exporter": "python",
   "pygments_lexer": "ipython3",
   "version": "3.11.4"
  }
 },
 "nbformat": 4,
 "nbformat_minor": 5
}
