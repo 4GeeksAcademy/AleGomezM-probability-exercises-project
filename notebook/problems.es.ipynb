{
 "cells": [
  {
   "cell_type": "markdown",
   "id": "a41f3622",
   "metadata": {},
   "source": [
    "# Ejercicios de probabilidad"
   ]
  },
  {
   "cell_type": "markdown",
   "id": "a6bdbd89",
   "metadata": {},
   "source": [
    "## Ejercicio 1 \n",
    "\n",
    "Dos dados se lanzan una vez y se observa el total obtenido. Usa una simulación para encontrar la probabilidad estimada de que la puntuación sea mayor a 7 o un número par. Una simulación es una repetición del mismo experimento multiples veces para observar su comportamiento:\n",
    "\n",
    "- Ejecuta el experimento 1000 veces (lanza 2 dados 1000 veces, y suma el número de ambos dados).\n",
    "- Lleva ua cuenta de los números y las veces que la suma fue mayor a 7 o un número par.\n",
    "- Divide el número del paso 2 entre el número de iteraciones(1000)."
   ]
  },
  {
   "cell_type": "code",
   "execution_count": 28,
   "id": "8939d892",
   "metadata": {},
   "outputs": [
    {
     "name": "stdout",
     "output_type": "stream",
     "text": [
      "En el experimiento se obtienen los siguientes resultados de sumar sus resultados: [7, 5, 7, 6, 9, 6, 8, 9, 8, 6, 10, 10, 9, 7, 4, 4, 7, 4, 6, 7, 5, 12, 9, 10, 3, 9, 9, 10, 6, 9, 6, 9, 8, 11, 5, 7, 5, 12, 3, 6, 6, 9, 5, 8, 6, 8, 6, 7, 7, 12, 10, 6, 4, 5, 8, 3, 7, 7, 11, 2, 7, 5, 8, 8, 8, 3, 6, 8, 9, 5, 3, 6, 8, 3, 6, 10, 7, 9, 8, 9, 6, 4, 8, 5, 9, 10, 3, 8, 6, 8, 8, 8, 12, 6, 9, 10, 7, 4, 8, 11, 4, 5, 7, 4, 5, 7, 8, 7, 4, 2, 3, 10, 8, 8, 8, 7, 6, 4, 4, 11, 8, 11, 6, 6, 11, 6, 5, 12, 4, 9, 7, 7, 9, 6, 10, 5, 4, 6, 8, 7, 11, 2, 8, 7, 10, 9, 7, 7, 6, 7, 10, 2, 4, 7, 8, 8, 3, 11, 9, 2, 4, 2, 6, 8, 10, 7, 9, 7, 8, 9, 8, 5, 6, 9, 9, 4, 11, 5, 9, 9, 11, 7, 9, 5, 9, 7, 7, 12, 6, 3, 10, 10, 8, 3, 8, 8, 4, 8, 7, 7, 11, 12, 10, 5, 7, 6, 6, 4, 6, 12, 7, 12, 8, 9, 7, 3, 7, 8, 6, 6, 5, 5, 6, 11, 9, 9, 7, 12, 6, 5, 6, 6, 4, 9, 6, 4, 5, 6, 9, 8, 7, 6, 6, 7, 7, 7, 8, 10, 4, 8, 3, 5, 8, 5, 12, 9, 8, 8, 6, 7, 4, 5, 6, 9, 4, 3, 5, 7, 7, 9, 7, 3, 6, 9, 9, 8, 11, 7, 3, 11, 8, 7, 10, 7, 8, 2, 4, 9, 9, 6, 6, 8, 9, 5, 11, 6, 9, 8, 8, 8, 8, 7, 8, 6, 5, 6, 6, 7, 5, 3, 7, 8, 11, 6, 9, 7, 8, 2, 4, 5, 3, 8, 9, 6, 11, 6, 7, 6, 12, 9, 9, 7, 11, 8, 8, 3, 6, 7, 8, 4, 4, 8, 9, 9, 3, 8, 5, 4, 7, 8, 8, 9, 6, 7, 5, 8, 8, 5, 6, 6, 8, 7, 9, 6, 8, 3, 4, 6, 4, 8, 3, 8, 7, 5, 5, 6, 7, 9, 6, 8, 8, 4, 5, 7, 5, 10, 2, 6, 10, 11, 12, 7, 8, 7, 5, 6, 9, 10, 4, 8, 6, 6, 6, 7, 4, 10, 10, 10, 9, 7, 8, 7, 2, 8, 10, 3, 8, 7, 9, 4, 10, 7, 5, 7, 8, 10, 5, 7, 5, 3, 9, 8, 4, 6, 9, 9, 7, 9, 11, 11, 5, 8, 12, 6, 4, 9, 9, 4, 10, 10, 4, 6, 6, 9, 11, 5, 7, 7, 10, 9, 8, 6, 8, 7, 9, 10, 8, 6, 11, 10, 9, 8, 6, 5, 7, 6, 4, 4, 6, 8, 4, 5, 5, 7, 4, 4, 10, 8, 6, 8, 7, 5, 3, 9, 10, 9, 9, 6, 7, 9, 8, 5, 8, 4, 8, 4, 8, 4, 4, 5, 5, 5, 8, 5, 8, 10, 7, 9, 8, 5, 9, 9, 11, 3, 11, 4, 8, 5, 6, 3, 7, 7, 6, 7, 7, 6, 9, 4, 9, 12, 10, 12, 8, 4, 5, 12, 4, 9, 4, 6, 6, 5, 2, 8, 10, 6, 8, 7, 4, 5, 7, 5, 6, 9, 7, 5, 7, 8, 7, 10, 5, 7, 6, 6, 6, 7, 5, 4, 6, 8, 8, 8, 6, 9, 7, 11, 6, 4, 6, 4, 7, 8, 8, 8, 11, 7, 6, 6, 11, 6, 6, 12, 9, 2, 7, 11, 6, 7, 7, 10, 8, 6, 7, 10, 5, 7, 5, 10, 8, 9, 5, 6, 4, 6, 6, 8, 3, 7, 8, 3, 9, 3, 5, 6, 8, 6, 5, 4, 8, 9, 8, 8, 5, 6, 10, 5, 8, 7, 11, 7, 6, 4, 11, 5, 5, 7, 7, 10, 7, 7, 10, 10, 5, 9, 8, 6, 9, 10, 6, 6, 9, 9, 10, 10, 5, 6, 6, 6, 8, 11, 5, 9, 5, 8, 8, 4, 4, 7, 9, 5, 12, 5, 9, 6, 6, 5, 5, 10, 6, 9, 9, 5, 12, 9, 8, 6, 4, 7, 5, 10, 11, 9, 6, 10, 12, 9, 5, 8, 5, 8, 4, 6, 9, 9, 9, 5, 8, 5, 10, 10, 7, 7, 7, 8, 6, 7, 5, 10, 8, 5, 8, 6, 10, 8, 11, 5, 5, 8, 7, 7, 7, 8, 9, 11, 4, 6, 12, 6, 7, 7, 3, 4, 11, 3, 5, 7, 11, 5, 7, 9, 9, 9, 5, 11, 10, 5, 10, 12, 4, 3, 9, 9, 4, 8, 3, 7, 9, 7, 10, 9, 8, 10, 5, 8, 10, 4, 5, 7, 8, 9, 4, 3, 10, 3, 9, 8, 7, 10, 8, 9, 10, 10, 7, 6, 7, 10, 8, 8, 8, 7, 4, 8, 8, 7, 10, 7, 7, 5, 6, 5, 3, 9, 5, 9, 8, 5, 2, 7, 7, 7, 8, 4, 4, 5, 2, 8, 4, 6, 8, 7, 6, 9, 7, 7, 8, 9, 3, 9, 5, 9, 5, 7, 8, 10, 5, 5, 8, 6, 8, 6, 4, 12, 10, 7, 7, 2, 5, 5, 9, 9, 9, 4, 7, 9, 8, 11, 10, 2, 7, 7, 9, 7, 8, 8, 8, 11, 4, 7, 11, 7, 9, 7, 9, 7, 10, 6, 5, 6, 8, 7, 10, 7, 12, 7, 8, 5, 8, 5, 4, 8, 3, 8, 12, 6, 7, 4, 12, 7, 5, 8, 6, 6, 7, 2, 6, 8, 6, 10, 5, 11, 3, 4, 4, 10, 5, 7, 9, 7, 6, 6, 8, 6, 10, 4, 8, 7, 5, 6, 10, 8, 7, 7, 6, 6, 7, 5, 4, 7, 9, 7, 4, 4, 6, 9, 7, 6, 7, 4, 7, 11, 8, 6, 6, 7, 7, 7, 7, 8, 7, 6, 12, 5, 7, 8, 9, 11, 10, 8, 5, 6]\n",
      "La probabilidad experimental de lanzar dos dados y obtener un numero mayor a 7 es: 0.431\n",
      "La probabilidad a priori es: 0.417\n",
      "La probabilidad experimental de lanzar dos dados y obtener un numero par es: 0.513\n",
      "La probabilidad a priori es: 0.5\n"
     ]
    }
   ],
   "source": [
    "import random\n",
    "# Definimos e inicializamos las variables a usar \n",
    "iteraciones=range(1000)\n",
    "p_par=0.5\n",
    "P_MayorSiete=15/36\n",
    "lista_suma=[]\n",
    "par=0\n",
    "gt_siete=0\n",
    "\n",
    "# Creamos un ciclo para que se ejecute cada lanzamiento de los dados, se sumen y se evaluen las condicionales\n",
    "for i in iteraciones:\n",
    "    dado_uno=random.randint(1, 6)\n",
    "    dado_dos=random.randint(1, 6)\n",
    "    lista_suma.append(dado_uno + dado_dos)\n",
    "    if lista_suma[i] >7:\n",
    "        gt_siete+=1\n",
    "    if lista_suma[i] %2==0:\n",
    "        par+=1\n",
    "\n",
    "# Se entregan los resultados\n",
    "print(\"En el experimiento se obtienen los siguientes resultados de sumar sus resultados:\", lista_suma)\n",
    "print(\"La probabilidad experimental de lanzar dos dados y obtener un numero mayor a 7 es:\", gt_siete/len(iteraciones))\n",
    "print(\"La probabilidad a priori es:\", round(P_MayorSiete, 3))\n",
    "print(\"La probabilidad experimental de lanzar dos dados y obtener un numero par es:\", par/len(iteraciones))\n",
    "print(\"La probabilidad a priori es:\", p_par)"
   ]
  },
  {
   "cell_type": "markdown",
   "id": "55732bca",
   "metadata": {},
   "source": [
    "## Ejercicio 2\n",
    "\n",
    "Una caja contiene 10 bolas blancas, 20 bolas rojas y 30 bolas verdes. Si tomamos 5 bolas de la caja reemplazándolas (tomando una bola, anotando el color y luego regresandola a la caja). Queremos saber la probabilidad de:\n",
    "\n",
    "1. Tomar 3 blancas y 2 rojas.\n",
    "2. Todas todas del mismo color.\n",
    "\n",
    "Ejecuta el experimento 1000 veces y calcula las probabilidades que mencionadas."
   ]
  },
  {
   "cell_type": "code",
   "execution_count": 29,
   "id": "23244d20",
   "metadata": {},
   "outputs": [
    {
     "name": "stdout",
     "output_type": "stream",
     "text": [
      "La probabilidad uno es igual a: 0.3 % (2 bolas rojas y 3 blancas), probabilidad teorica 0,5%\n",
      "La probabilidad dos es igual a: 4.4 % (todas las 5 bolas iguales) probabilidad teorica 3,5%\n"
     ]
    }
   ],
   "source": [
    "import random\n",
    "ball_box = {}\n",
    "\n",
    "# Crea la cajas con las bolas\n",
    "for i in range(60):\n",
    "    if i < 10:\n",
    "        ball_box[i] = \"White\"\n",
    "    elif (i > 9) and (i < 30):\n",
    "        ball_box[i] = \"Red\"\n",
    "    else:\n",
    "        ball_box[i] = \"Green\"\n",
    "\n",
    "#print(ball_box)\n",
    "\n",
    "iteraciones=range(1000)\n",
    "remplazos=range(5)\n",
    "lista_final=[]\n",
    "tresb_dosr=0\n",
    "todos_igual=0\n",
    "\n",
    "for i in iteraciones:\n",
    "    bola_extraida=[]\n",
    "\n",
    "    green=0\n",
    "    red=0\n",
    "    white=0\n",
    "\n",
    "    for remplazo in remplazos:\n",
    "        eleccion_aleatoria = random.choice(ball_box)\n",
    "        if eleccion_aleatoria == \"Green\":\n",
    "            green += 1\n",
    "        if eleccion_aleatoria == \"White\":\n",
    "            white += 1\n",
    "        if eleccion_aleatoria == \"Red\":\n",
    "            red += 1\n",
    "\n",
    "    if white == 3 and red == 2:\n",
    "        tresb_dosr += 1\n",
    "\n",
    "    if green == 5 or red ==5 or white ==5:\n",
    "        todos_igual += 1\n",
    "        \n",
    "    #bola_extraida.append(eleccion_aleatoria)\n",
    "#lista_final.append(bola_extraida)\n",
    "\n",
    "print('La probabilidad uno es igual a:', tresb_dosr/10, '% (2 bolas rojas y 3 blancas), probabilidad teorica 0,5%')\n",
    "print('La probabilidad dos es igual a:', todos_igual/10, '% (todas las 5 bolas iguales) probabilidad teorica 3,5%')"
   ]
  }
 ],
 "metadata": {
  "kernelspec": {
   "display_name": "Python 3",
   "language": "python",
   "name": "python3"
  },
  "language_info": {
   "codemirror_mode": {
    "name": "ipython",
    "version": 3
   },
   "file_extension": ".py",
   "mimetype": "text/x-python",
   "name": "python",
   "nbconvert_exporter": "python",
   "pygments_lexer": "ipython3",
   "version": "3.11.4"
  }
 },
 "nbformat": 4,
 "nbformat_minor": 5
}
