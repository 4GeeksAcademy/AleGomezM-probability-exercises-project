{
 "cells": [
  {
   "cell_type": "markdown",
   "id": "a41f3622",
   "metadata": {},
   "source": [
    "# Ejercicios de probabilidad"
   ]
  },
  {
   "cell_type": "markdown",
   "id": "a6bdbd89",
   "metadata": {},
   "source": [
    "## Ejercicio 1 \n",
    "\n",
    "Dos dados se lanzan una vez y se observa el total obtenido. Usa una simulación para encontrar la probabilidad estimada de que la puntuación sea mayor a 7 o un número par. Una simulación es una repetición del mismo experimento multiples veces para observar su comportamiento:\n",
    "\n",
    "- Ejecuta el experimento 1000 veces (lanza 2 dados 1000 veces, y suma el número de ambos dados).\n",
    "- Lleva ua cuenta de los números y las veces que la suma fue mayor a 7 o un número par.\n",
    "- Divide el número del paso 2 entre el número de iteraciones(1000)."
   ]
  },
  {
   "cell_type": "code",
   "execution_count": 99,
   "id": "8939d892",
   "metadata": {},
   "outputs": [
    {
     "data": {
      "text/plain": [
       "0.671"
      ]
     },
     "execution_count": 99,
     "metadata": {},
     "output_type": "execute_result"
    }
   ],
   "source": [
    "# TODO\n",
    "import numpy as np\n",
    "\n",
    "em = [1,2,3,4,5,6]\n",
    "\n",
    "repeticiones = 1000\n",
    "counter = 0\n",
    "\n",
    "for i in range(repeticiones):\n",
    "    d1 = np.random.choice(em)\n",
    "    d2 = np.random.choice(em)\n",
    "    if (d1+d2 > 7) or ((d1+d2)%2 == 0):\n",
    "        counter +=  1\n",
    "\n",
    "counter/1000"
   ]
  },
  {
   "cell_type": "markdown",
   "id": "55732bca",
   "metadata": {},
   "source": [
    "## Ejercicio 2\n",
    "\n",
    "Una caja contiene 10 bolas blancas, 20 bolas rojas y 30 bolas verdes. Si tomamos 5 bolas de la caja reemplazándolas (tomando una bola, anotando el color y luego regresandola a la caja). Queremos saber la probabilidad de:\n",
    "\n",
    "1. Tomar 3 blancas y 2 rojas.\n",
    "2. Toas todas del mismo color.\n",
    "\n",
    "Ejecuta el experimento 1000 veces y calcula las probabilidades que mencionadas."
   ]
  },
  {
   "cell_type": "code",
   "execution_count": 100,
   "id": "23244d20",
   "metadata": {},
   "outputs": [
    {
     "name": "stdout",
     "output_type": "stream",
     "text": [
      "0.005 0.037\n"
     ]
    }
   ],
   "source": [
    "ball_box = {}\n",
    "\n",
    "# Crea la cajas con las bolas\n",
    "for i in range(60):\n",
    "    if i < 10:\n",
    "        ball_box[i] = \"White\"\n",
    "    elif (i > 9) and (i < 30):\n",
    "        ball_box[i] = \"Red\"\n",
    "    else:\n",
    "        ball_box[i] = \"Green\"\n",
    "\n",
    "#print(ball_box)\n",
    "            \n",
    "# TODO\n",
    "\n",
    "repeticiones = 1000\n",
    "sacadas = 5\n",
    "ball_box_list = list(ball_box.values())\n",
    "counter_3b_2r = 0\n",
    "counter_color = 0\n",
    "\n",
    "for r in range(repeticiones):\n",
    "    dict_sacadas = {\"White\" : 0, \"Red\" : 0, \"Green\" : 0}\n",
    "    for s in range(sacadas):\n",
    "        sacada = np.random.choice(ball_box_list, 1, replace=True)[0]\n",
    "        dict_sacadas[sacada] += 1\n",
    "    dict_sacadas\n",
    "    if (dict_sacadas[\"White\"] == 3) and (dict_sacadas[\"Red\"] == 2):\n",
    "        counter_3b_2r += 1\n",
    "    for color in dict_sacadas.values():\n",
    "        if color == 5:\n",
    "            counter_color += 1\n",
    "print(counter_3b_2r/repeticiones, counter_color/repeticiones)\n",
    "\n"
   ]
  }
 ],
 "metadata": {
  "kernelspec": {
   "display_name": "Python 3",
   "language": "python",
   "name": "python3"
  },
  "language_info": {
   "codemirror_mode": {
    "name": "ipython",
    "version": 3
   },
   "file_extension": ".py",
   "mimetype": "text/x-python",
   "name": "python",
   "nbconvert_exporter": "python",
   "pygments_lexer": "ipython3",
   "version": "3.11.4"
  }
 },
 "nbformat": 4,
 "nbformat_minor": 5
}
