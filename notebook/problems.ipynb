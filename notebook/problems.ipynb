{
 "cells": [
  {
   "cell_type": "markdown",
   "id": "a41f3622",
   "metadata": {},
   "source": [
    "# Probability exercises"
   ]
  },
  {
   "cell_type": "markdown",
   "id": "a6bdbd89",
   "metadata": {},
   "source": [
    "## Exercise 1 \n",
    "\n",
    "Two dices are thrown once and the total score is observed. Use a simulation to find the estimated probability that the total score is even or greater than 7.  A simulation is a repetition of the same experiment multiple times to observe its behavior:\n",
    "\n",
    "- Run the experiment 1000 times (roll 2 dice 1000 times, and sum the number of both dices).\n",
    "- Keep track of the number of times that the sum was either greater than 7 or an even number.\n",
    "- Divide the number from step 2 by the number of iterations (1000).\n",
    "\n",
    "\n"
   ]
  },
  {
   "cell_type": "code",
   "execution_count": 23,
   "id": "8939d892",
   "metadata": {},
   "outputs": [
    {
     "name": "stdout",
     "output_type": "stream",
     "text": [
      "Probability = 61.0%\n"
     ]
    }
   ],
   "source": [
    "# TODO\n",
    "\n",
    "import random\n",
    "\n",
    "count = 1000\n",
    "greater7 = []\n",
    "\n",
    "# Run the simulation 1000 times\n",
    "for i in range(count):\n",
    "    dice1 = random.randint(1, 6)\n",
    "    dice2 = random.randint(1, 6)\n",
    "    total = dice1 + dice2\n",
    "    \n",
    "    # If the total is greater than or equal to 7, add to the list\n",
    "    if total >= 7:\n",
    "        greater7.append(total)\n",
    "\n",
    "# Calculate the probability\n",
    "prob = round(len(greater7) / count, 2)\n",
    "\n",
    "print(f'Probability = {prob * 100}%')"
   ]
  },
  {
   "cell_type": "markdown",
   "id": "55732bca",
   "metadata": {},
   "source": [
    "## Exercise 2\n",
    "\n",
    "A box contains 10 white balls, 20 red balls and 30 green balls. If we take 5 balls from the box with replacement (we take the ball, observe what color it is and put it back into the box). We want to know the probability of:\n",
    "\n",
    "1. Take 3 white and 2 red.\n",
    "2. Take all of the same color.\n",
    "\n",
    "Run the experiment 1000 times and calculate the above probabilities."
   ]
  },
  {
   "cell_type": "code",
   "execution_count": 26,
   "id": "23244d20",
   "metadata": {},
   "outputs": [
    {
     "name": "stdout",
     "output_type": "stream",
     "text": [
      "Probability of 3 White and 2 Red: 0.3%\n",
      "Probability of all same color: 3.1%\n"
     ]
    }
   ],
   "source": [
    "ball_box = {}\n",
    "\n",
    "# Create the box of balls\n",
    "for i in range(60):\n",
    "    if i < 10:\n",
    "        ball_box[i] = \"White\"\n",
    "    elif (i > 9) and (i < 30):\n",
    "        ball_box[i] = \"Red\"\n",
    "    else:\n",
    "        ball_box[i] = \"Green\"\n",
    "\n",
    "# print(ball_box)\n",
    "            \n",
    "# TODO\n",
    "\n",
    "#Ball box is made\n",
    "#I will make a for loop that runs 1000 times \n",
    "    #in each loop I will take out 5 random balls\n",
    "    #I will do this by using random.choices()\n",
    "    #I will then pull the item from the ball box list, and will add them to another list, 'pulled balls'\n",
    "        #I will then make an if statement\n",
    "# There will be 2 int variables that exist at the top as variables search 1, and search 2 using collection.counter()\n",
    "        # If the list has the search variables for 3 white and 2 red, it will add 1 to search 1\n",
    "        #If the list has the search variables for all of the same color, I will add 1 to search2\n",
    "#then I will divide search 1 by 1000, for probability of search 1\n",
    "#then I will divide search 2 by 100 for the probability of search 2\n",
    "\n",
    "import random\n",
    "from collections import Counter\n",
    "\n",
    "\n",
    "ball_box = list(ball_box.values())\n",
    "count = 1000\n",
    "search1 = 0\n",
    "search2 = 0\n",
    "neither = 0\n",
    "\n",
    "for i in range(count):\n",
    "    picked = random.choices(ball_box,k=5)\n",
    "    counter = Counter(picked)\n",
    "    if counter == Counter({'Red': 2, 'White': 3}):\n",
    "        search1 += 1\n",
    "    elif (counter == Counter({'Red': 5}) or\n",
    "    counter == Counter({'Green': 5}) or\n",
    "    counter == Counter({'White': 5})):\n",
    "        search2 += 1\n",
    "    else:\n",
    "        neither += 1\n",
    "\n",
    "prob_search1 = search1 / count\n",
    "prob_search2 = search2 / count\n",
    "\n",
    "print(f'Probability of 3 White and 2 Red: {prob_search1 * 100}%')\n",
    "print(f'Probability of all same color: {prob_search2 * 100}%')\n"
   ]
  },
  {
   "cell_type": "code",
   "execution_count": null,
   "id": "17e9b380",
   "metadata": {},
   "outputs": [],
   "source": []
  }
 ],
 "metadata": {
  "interpreter": {
   "hash": "9248718ffe6ce6938b217e69dbcc175ea21f4c6b28a317e96c05334edae734bb"
  },
  "kernelspec": {
   "display_name": "Python 3.9.12 ('ML-BOOTCAMP')",
   "language": "python",
   "name": "python3"
  },
  "language_info": {
   "codemirror_mode": {
    "name": "ipython",
    "version": 3
   },
   "file_extension": ".py",
   "mimetype": "text/x-python",
   "name": "python",
   "nbconvert_exporter": "python",
   "pygments_lexer": "ipython3",
   "version": "3.11.4"
  }
 },
 "nbformat": 4,
 "nbformat_minor": 5
}
